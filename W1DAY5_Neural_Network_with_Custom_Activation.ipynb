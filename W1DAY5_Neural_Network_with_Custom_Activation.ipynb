{
  "nbformat": 4,
  "nbformat_minor": 0,
  "metadata": {
    "colab": {
      "provenance": [],
      "authorship_tag": "ABX9TyMnBilNchGd34QLK8/iaVlC",
      "include_colab_link": true
    },
    "kernelspec": {
      "name": "python3",
      "display_name": "Python 3"
    },
    "language_info": {
      "name": "python"
    }
  },
  "cells": [
    {
      "cell_type": "markdown",
      "metadata": {
        "id": "view-in-github",
        "colab_type": "text"
      },
      "source": [
        "<a href=\"https://colab.research.google.com/github/josephxlp/PyTorch100Days/blob/main/W1DAY5_Neural_Network_with_Custom_Activation.ipynb\" target=\"_parent\"><img src=\"https://colab.research.google.com/assets/colab-badge.svg\" alt=\"Open In Colab\"/></a>"
      ]
    },
    {
      "cell_type": "markdown",
      "source": [
        "W1DAY5: Neural Network with Custom Activation"
      ],
      "metadata": {
        "id": "7iEU3LLg9IkF"
      }
    },
    {
      "cell_type": "markdown",
      "source": [
        "Description\n",
        "\n",
        "- implement a neural network that uses a custom activation function instead of built-in ones like ReLU or Sigmoid\n",
        "- This demonstrates how PyTorch allows full flexibility in defining non-\n",
        "\n",
        "\n",
        "    Goal:Use a custom-defined activation function inside a simple feedforward neural network."
      ],
      "metadata": {
        "id": "xNtGsAqv9QdN"
      }
    },
    {
      "cell_type": "code",
      "source": [
        "import torch\n",
        "import torch.nn as nn\n",
        "import torch.nn.functional as F\n",
        "from torch.utils.data import TensorDataset, DataLoader\n",
        "import matplotlib.pyplot as plt\n",
        "\n",
        "# Generate some synthetic data\n",
        "X = torch.linspace(-3, 3, 100).unsqueeze(1)  # 100 inputs from -3 to 3\n",
        "Y = torch.sin(X) + 0.1 * torch.randn(X.size())  # Target: noisy sine wave"
      ],
      "metadata": {
        "id": "EVvj2D7Q9P-P"
      },
      "execution_count": null,
      "outputs": []
    },
    {
      "cell_type": "code",
      "source": [
        "plt.scatter(X.numpy(), Y.numpy())\n",
        "plt.show()"
      ],
      "metadata": {
        "colab": {
          "base_uri": "https://localhost:8080/",
          "height": 430
        },
        "id": "EQBXtcjD9a95",
        "outputId": "62027dfd-a2ea-4fbf-fab9-840a166949ec"
      },
      "execution_count": null,
      "outputs": [
        {
          "output_type": "display_data",
          "data": {
            "text/plain": [
              "<Figure size 640x480 with 1 Axes>"
            ],
            "image/png": "[encoded data removed]"
          },
          "metadata": {}
        }
      ]
    },
    {
      "cell_type": "code",
      "source": [
        "# Load data into a DataLoader\n",
        "dataset = TensorDataset(X, Y)\n",
        "loader = DataLoader(dataset, batch_size=16, shuffle=True)"
      ],
      "metadata": {
        "id": "T2gpygaV9gsd"
      },
      "execution_count": null,
      "outputs": []
    },
    {
      "cell_type": "code",
      "source": [
        "# Define a custom activation function\n",
        "def swish(x):\n",
        "    return x * torch.sigmoid(x)  # Swish: x * sigmoid(x)"
      ],
      "metadata": {
        "id": "afU6b8Cd9l-V"
      },
      "execution_count": null,
      "outputs": []
    },
    {
      "cell_type": "code",
      "source": [
        "# Custom Swish activation as a module (for use in nn.Sequential)\n",
        "class Swish(nn.Module):\n",
        "    def forward(self, x):\n",
        "        return x * torch.sigmoid(x)"
      ],
      "metadata": {
        "id": "5942zwLK9ntR"
      },
      "execution_count": null,
      "outputs": []
    },
    {
      "cell_type": "code",
      "source": [
        "# Define a simple feedforward neural network using the Swish activation\n",
        "class SwishNet(nn.Module):\n",
        "    def __init__(self):\n",
        "        super(SwishNet, self).__init__()\n",
        "        self.net = nn.Sequential(\n",
        "            nn.Linear(1, 32),  # Input layer\n",
        "            Swish(),           # Custom activation\n",
        "            nn.Linear(32, 32),\n",
        "            Swish(),           # Another Swish\n",
        "            nn.Linear(32, 1)   # Output layer\n",
        "        )\n",
        "\n",
        "    def forward(self, x):\n",
        "        return self.net(x)"
      ],
      "metadata": {
        "id": "0MdgiJ8W9pl5"
      },
      "execution_count": null,
      "outputs": []
    },
    {
      "cell_type": "code",
      "source": [
        "model = SwishNet()\n",
        "\n",
        "# Use Mean Squared Error loss\n",
        "criterion = nn.MSELoss()\n",
        "optimizer = torch.optim.Adam(model.parameters(), lr=0.01)\n",
        "\n",
        "# Training loop\n",
        "for epoch in range(200):\n",
        "    for batch_X, batch_Y in loader:\n",
        "        output = model(batch_X)              # Forward pass\n",
        "        loss = criterion(output, batch_Y)    # Compute MSE loss\n",
        "\n",
        "        optimizer.zero_grad()                # Clear gradients\n",
        "        loss.backward()                      # Backpropagation\n",
        "        optimizer.step()                     # Update weights\n",
        "\n",
        "    if (epoch+1) % 40 == 0:\n",
        "        print(f'Epoch {epoch+1}, Loss: {loss.item():.4f}')"
      ],
      "metadata": {
        "colab": {
          "base_uri": "https://localhost:8080/"
        },
        "id": "Z6ssVHlQ99-i",
        "outputId": "9e5dcbe8-545e-4c8e-fc54-16106e44104e"
      },
      "execution_count": null,
      "outputs": [
        {
          "output_type": "stream",
          "name": "stdout",
          "text": [
            "Epoch 40, Loss: 0.0178\n",
            "Epoch 80, Loss: 0.0117\n",
            "Epoch 120, Loss: 0.0188\n",
            "Epoch 160, Loss: 0.0098\n",
            "Epoch 200, Loss: 0.0046\n"
          ]
        }
      ]
    },
    {
      "cell_type": "code",
      "source": [],
      "metadata": {
        "id": "a3gfIL5C-C64"
      },
      "execution_count": null,
      "outputs": []
    }
  ]
}