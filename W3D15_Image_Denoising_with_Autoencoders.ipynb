{
  "nbformat": 4,
  "nbformat_minor": 0,
  "metadata": {
    "colab": {
      "provenance": [],
      "authorship_tag": "ABX9TyNtC43t8IusWA1ARfw6UJiG",
      "include_colab_link": true
    },
    "kernelspec": {
      "name": "python3",
      "display_name": "Python 3"
    },
    "language_info": {
      "name": "python"
    }
  },
  "cells": [
    {
      "cell_type": "markdown",
      "metadata": {
        "id": "view-in-github",
        "colab_type": "text"
      },
      "source": [
        "<a href=\"https://colab.research.google.com/github/josephxlp/PyTorch100Days/blob/main/W3D15_Image_Denoising_with_Autoencoders.ipynb\" target=\"_parent\"><img src=\"https://colab.research.google.com/assets/colab-badge.svg\" alt=\"Open In Colab\"/></a>"
      ]
    },
    {
      "cell_type": "code",
      "execution_count": 2,
      "metadata": {
        "id": "m0SQ8Wz543IR"
      },
      "outputs": [],
      "source": [
        "import torch\n",
        "import torch.nn as nn\n",
        "from torchvision import datasets, transforms\n",
        "from torch.utils.data import DataLoader\n",
        "from tqdm import tqdm"
      ]
    },
    {
      "cell_type": "code",
      "source": [
        "transform = transforms.Compose([\n",
        "    transforms.ToTensor(),\n",
        "    transforms.Lambda(lambda x: x + 0.5 * torch.rand_like(x)),#add gaussina noise\n",
        "    transforms.Lambda(lambda x: torch.clamp(x,0.,1.)) # clip to 0-1\n",
        "])"
      ],
      "metadata": {
        "id": "uSlnUK__-1hA"
      },
      "execution_count": 26,
      "outputs": []
    },
    {
      "cell_type": "code",
      "source": [
        "train_noisy = datasets.MNIST(root='./data', train=True, download=True,transform=transform)\n",
        "train_clean = datasets.MNIST(root='/data', train=True, download=True, transform=transforms.ToTensor())"
      ],
      "metadata": {
        "id": "HdKQCGLP_JwO"
      },
      "execution_count": 30,
      "outputs": []
    },
    {
      "cell_type": "code",
      "source": [
        "noise_dl = DataLoader(train_noisy, batch_size=64, shuffle=True)\n",
        "clean_dl = DataLoader(train_clean, batch_size=64, shuffle=True)"
      ],
      "metadata": {
        "id": "TrL_lQ-7_ryS"
      },
      "execution_count": 32,
      "outputs": []
    },
    {
      "cell_type": "code",
      "source": [
        "train_dl = zip(noise_dl, clean_dl)"
      ],
      "metadata": {
        "id": "8WSyR9GyAATG"
      },
      "execution_count": 33,
      "outputs": []
    },
    {
      "cell_type": "code",
      "source": [
        "class AutoEncoder(nn.Module):\n",
        "    def __init__(self):\n",
        "        super(AutoEncoder, self).__init__()\n",
        "        self.encoder = nn.Sequential(\n",
        "            nn.Flatten(),\n",
        "            nn.Linear(28*28, 128),\n",
        "            nn.ReLU(),\n",
        "            nn.Linear(128, 64),\n",
        "            nn.ReLU()\n",
        "            )\n",
        "        self.decoder = nn.Sequential(\n",
        "            nn.Linear(64, 128),\n",
        "            nn.ReLU(),\n",
        "            nn.Linear(128, 28*28),\n",
        "            nn.Sigmoid()\n",
        "            )\n",
        "    def forward(self, x):\n",
        "        # Pass the input through the encoder\n",
        "        encoded = self.encoder(x)\n",
        "        # Pass the encoded output through the decoder\n",
        "        decoded = self.decoder(encoded)\n",
        "        # Reshape the output to the original image dimensions\n",
        "        return decoded.view(-1, 1, 28,28)"
      ],
      "metadata": {
        "id": "-5vMWdEJAE16"
      },
      "execution_count": 38,
      "outputs": []
    },
    {
      "cell_type": "code",
      "source": [
        "model = AutoEncoder()\n",
        "criterion = nn.MSELoss()\n",
        "optimizer = torch.optim.Adam(model.parameters(), lr=0.001)\n",
        "device = 'cuda' if torch.cuda.is_available() else 'cpu'\n",
        "device"
      ],
      "metadata": {
        "colab": {
          "base_uri": "https://localhost:8080/",
          "height": 35
        },
        "id": "qbizJnSvBT53",
        "outputId": "b75dda75-c78d-4332-cfaa-5c844edc8ff5"
      },
      "execution_count": 39,
      "outputs": [
        {
          "output_type": "execute_result",
          "data": {
            "text/plain": [
              "'cpu'"
            ],
            "application/vnd.google.colaboratory.intrinsic+json": {
              "type": "string"
            }
          },
          "metadata": {},
          "execution_count": 39
        }
      ]
    },
    {
      "cell_type": "code",
      "source": [
        "# Training loop\n",
        "for epoch in range(25):\n",
        "    for (noisy_imgs, _), (clean_imgs, _) in train_dl:\n",
        "        outputs = model(noisy_imgs)\n",
        "        loss = criterion(outputs, clean_imgs)\n",
        "\n",
        "        optimizer.zero_grad()\n",
        "        loss.backward()\n",
        "        optimizer.step()\n",
        "\n",
        "    print(f\"Epoch {epoch+1}, Loss: {loss.item():.4f}\")"
      ],
      "metadata": {
        "colab": {
          "base_uri": "https://localhost:8080/"
        },
        "id": "-X1Vp5fZFf9g",
        "outputId": "a42c12b7-ab31-4fa8-f629-f778c1597c4e"
      },
      "execution_count": 45,
      "outputs": [
        {
          "output_type": "stream",
          "name": "stdout",
          "text": [
            "Epoch 1, Loss: 0.0706\n",
            "Epoch 2, Loss: 0.0706\n",
            "Epoch 3, Loss: 0.0706\n",
            "Epoch 4, Loss: 0.0706\n",
            "Epoch 5, Loss: 0.0706\n",
            "Epoch 6, Loss: 0.0706\n",
            "Epoch 7, Loss: 0.0706\n",
            "Epoch 8, Loss: 0.0706\n",
            "Epoch 9, Loss: 0.0706\n",
            "Epoch 10, Loss: 0.0706\n",
            "Epoch 11, Loss: 0.0706\n",
            "Epoch 12, Loss: 0.0706\n",
            "Epoch 13, Loss: 0.0706\n",
            "Epoch 14, Loss: 0.0706\n",
            "Epoch 15, Loss: 0.0706\n",
            "Epoch 16, Loss: 0.0706\n",
            "Epoch 17, Loss: 0.0706\n",
            "Epoch 18, Loss: 0.0706\n",
            "Epoch 19, Loss: 0.0706\n",
            "Epoch 20, Loss: 0.0706\n",
            "Epoch 21, Loss: 0.0706\n",
            "Epoch 22, Loss: 0.0706\n",
            "Epoch 23, Loss: 0.0706\n",
            "Epoch 24, Loss: 0.0706\n",
            "Epoch 25, Loss: 0.0706\n"
          ]
        }
      ]
    },
    {
      "cell_type": "code",
      "source": [],
      "metadata": {
        "id": "0e20mFt-Hd_m"
      },
      "execution_count": null,
      "outputs": []
    }
  ]
}