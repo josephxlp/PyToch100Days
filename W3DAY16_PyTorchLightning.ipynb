{
  "nbformat": 4,
  "nbformat_minor": 0,
  "metadata": {
    "colab": {
      "provenance": [],
      "authorship_tag": "ABX9TyMt3LhUGn/qUUAtre0GFAQm",
      "include_colab_link": true
    },
    "kernelspec": {
      "name": "python3",
      "display_name": "Python 3"
    },
    "language_info": {
      "name": "python"
    }
  },
  "cells": [
    {
      "cell_type": "markdown",
      "metadata": {
        "id": "view-in-github",
        "colab_type": "text"
      },
      "source": [
        "<a href=\"https://colab.research.google.com/github/josephxlp/PyTorch100Days/blob/main/W3DAY16_PyTorchLightning.ipynb\" target=\"_parent\"><img src=\"https://colab.research.google.com/assets/colab-badge.svg\" alt=\"Open In Colab\"/></a>"
      ]
    },
    {
      "cell_type": "code",
      "source": [
        "!pip install pytorch-lightning --q"
      ],
      "metadata": {
        "id": "Y0e66ilRKRCx"
      },
      "execution_count": 10,
      "outputs": []
    },
    {
      "cell_type": "code",
      "execution_count": 11,
      "metadata": {
        "id": "m0hbFPCOJTzW"
      },
      "outputs": [],
      "source": [
        "import torch\n",
        "import torch.nn as nn\n",
        "import torch.nn.functional as F\n",
        "from torch.utils.data import DataLoader\n",
        "from torchvision import datasets, transforms\n",
        "import pytorch_lightning as pl"
      ]
    },
    {
      "cell_type": "code",
      "source": [
        "transform = transforms.ToTensor()\n",
        "train_ds = datasets.MNIST(root='./data', train=True, download=True, transform=transform)\n",
        "test_ds = datasets.MNIST(root='./data', train=False, download=True, transform=transform)"
      ],
      "metadata": {
        "id": "A_qMYQ4wJ8zI"
      },
      "execution_count": 12,
      "outputs": []
    },
    {
      "cell_type": "code",
      "source": [
        "train_dl = DataLoader(train_ds, batch_size=128, shuffle=True)\n",
        "valid_dl = DataLoader(test_ds, batch_size=128, shuffle=False)"
      ],
      "metadata": {
        "id": "LWV4_7T8Kjrb"
      },
      "execution_count": 13,
      "outputs": []
    },
    {
      "cell_type": "code",
      "source": [
        "class MNIST_Classifier(pl.LightningModule):\n",
        "    def __init__(self):\n",
        "        super().__init__()\n",
        "        self.fc1 = nn.Linear(28*28, 128)\n",
        "        self.fc2 = nn.Linear(128, 10)\n",
        "\n",
        "    def forward(self, x):\n",
        "        x = x.view(-1, 28*28)\n",
        "        x = F.relu(self.fc1(x))\n",
        "        return self.fc2(x)\n",
        "\n",
        "    def training_step(self, batch, batch_idx):\n",
        "        images, labels = batch\n",
        "        logists = self(images)\n",
        "        loss = F.cross_entropy(logists, labels)\n",
        "        self.log('train_loss', loss)\n",
        "        return loss\n",
        "\n",
        "    def validation_step(self, batch, batch_idx):\n",
        "        images, labels = batch\n",
        "        logists = self(images)\n",
        "        loss = F.cross_entropy(logists, labels)\n",
        "        acc = (logists.argmax(dim=1) == labels).float().mean()\n",
        "        self.log('valid_loss', loss)\n",
        "        self.log('valid_acc', acc)\n",
        "       # return loss\n",
        "\n",
        "    def configure_optimizers(self):\n",
        "        return torch.optim.Adam(self.parameters(), lr=1e-3)\n"
      ],
      "metadata": {
        "id": "3uNxDwEyK73l"
      },
      "execution_count": 14,
      "outputs": []
    },
    {
      "cell_type": "code",
      "source": [
        "model = MNIST_Classifier()\n",
        "trainer = pl.Trainer(max_epochs=10, log_every_n_steps=50)\n",
        "trainer.fit(model, train_dl, valid_dl)"
      ],
      "metadata": {
        "id": "y-CdCMDSMm1K"
      },
      "execution_count": null,
      "outputs": []
    },
    {
      "cell_type": "code",
      "source": [
        "# Access the validation and training losses\n",
        "train_losses = trainer.callback_metrics['train_loss'].cpu().numpy()\n",
        "valid_losses = trainer.callback_metrics['valid_loss'].cpu().numpy()\n",
        "valid_acc = trainer.callback_metrics['valid_acc'].cpu().numpy()\n",
        "print(f\"Final Train Loss: {train_losses}\")\n",
        "print(f\"Final Validation Loss: {valid_losses}\")\n",
        "print(f\"Final Validation Accuracy: {valid_acc}\")\n",
        "\n",
        "# Getting predictions on the test set\n",
        "model.eval() # Set the model to evaluation mode\n",
        "predictions = []\n",
        "true_labels = []\n",
        "\n",
        "with torch.no_grad(): # Disable gradient calculation\n",
        "    for images, labels in valid_dl: # Use the validation dataloader for prediction\n",
        "        logists = model(images)\n",
        "        preds = logists.argmax(dim=1)\n",
        "        predictions.extend(preds.cpu().numpy())\n",
        "        true_labels.extend(labels.cpu().numpy())\n",
        "\n",
        "print(\"\\nSample Predictions:\")\n",
        "print(predictions[:10])\n",
        "print(\"Sample True Labels:\")\n",
        "print(true_labels[:10])"
      ],
      "metadata": {
        "colab": {
          "base_uri": "https://localhost:8080/"
        },
        "id": "MK4Ri5qwM2gK",
        "outputId": "4fcfeebc-77e2-4474-cd85-df9ad1c73b4d"
      },
      "execution_count": 18,
      "outputs": [
        {
          "output_type": "stream",
          "name": "stdout",
          "text": [
            "Final Train Loss: 0.10250356793403625\n",
            "Final Validation Loss: 0.07516660541296005\n",
            "Final Validation Accuracy: 0.977400004863739\n",
            "\n",
            "Sample Predictions:\n",
            "[np.int64(7), np.int64(2), np.int64(1), np.int64(0), np.int64(4), np.int64(1), np.int64(4), np.int64(9), np.int64(5), np.int64(9)]\n",
            "Sample True Labels:\n",
            "[np.int64(7), np.int64(2), np.int64(1), np.int64(0), np.int64(4), np.int64(1), np.int64(4), np.int64(9), np.int64(5), np.int64(9)]\n"
          ]
        }
      ]
    },
    {
      "cell_type": "code",
      "source": [
        "#!jupyter nbconvert --clear-output --inplace W3DAY16_PyTorchLightning.ipynb"
      ],
      "metadata": {
        "id": "JxO64ZkMNxP-"
      },
      "execution_count": 17,
      "outputs": []
    }
  ]
}