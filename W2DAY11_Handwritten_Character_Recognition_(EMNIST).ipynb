{
  "nbformat": 4,
  "nbformat_minor": 0,
  "metadata": {
    "colab": {
      "provenance": [],
      "gpuType": "T4",
      "authorship_tag": "ABX9TyNgvueCbIr9OUJ4RO9+rLBA",
      "include_colab_link": true
    },
    "kernelspec": {
      "name": "python3",
      "display_name": "Python 3"
    },
    "language_info": {
      "name": "python"
    },
    "accelerator": "GPU"
  },
  "cells": [
    {
      "cell_type": "markdown",
      "metadata": {
        "id": "view-in-github",
        "colab_type": "text"
      },
      "source": [
        "<a href=\"https://colab.research.google.com/github/josephxlp/PyTorch100Days/blob/main/W2DAY11_Handwritten_Character_Recognition_(EMNIST).ipynb\" target=\"_parent\"><img src=\"https://colab.research.google.com/assets/colab-badge.svg\" alt=\"Open In Colab\"/></a>"
      ]
    },
    {
      "cell_type": "markdown",
      "source": [
        "W2D11: Handwritten Character Recognition (EMNIST)"
      ],
      "metadata": {
        "id": "dwqvThzXgnLr"
      }
    },
    {
      "cell_type": "markdown",
      "source": [
        "Description:\n",
        "- the EMNIST dataset (an extended version of MNIST with letters and digits) to train a character recognizer using a convolutional neural network."
      ],
      "metadata": {
        "id": "VQKREzOPPIQZ"
      }
    },
    {
      "cell_type": "markdown",
      "source": [
        "Goal:\n",
        "- Classify handwritten letters and digits from the EMNIST Balanced dataset using a CNN"
      ],
      "metadata": {
        "id": "4prB5pEYPP3m"
      }
    },
    {
      "cell_type": "code",
      "source": [
        "import torch\n",
        "import torch.nn as nn\n",
        "import torch.nn.functional as F\n",
        "from torch.utils.data import DataLoader\n",
        "from torchvision import datasets, transforms\n",
        "import matplotlib.pyplot as plt"
      ],
      "metadata": {
        "id": "MAPEkzR3PNMx"
      },
      "execution_count": 1,
      "outputs": []
    },
    {
      "cell_type": "code",
      "source": [
        "transform = transforms.Compose([\n",
        "    transforms.RandomRotation((-90, 90)),\n",
        "    transforms.ToTensor()])"
      ],
      "metadata": {
        "id": "wSlI2lSQPflF"
      },
      "execution_count": 2,
      "outputs": []
    },
    {
      "cell_type": "code",
      "source": [
        "train_ds = datasets.EMNIST(root='./data', split='balanced', train=True, download=True, transform=transform)\n",
        "test_ds = datasets.EMNIST(root='./data', split='balanced', train=False, download=True, transform=transform)"
      ],
      "metadata": {
        "id": "eCXjhskNQB1_",
        "colab": {
          "base_uri": "https://localhost:8080/"
        },
        "outputId": "d9c11da9-a49f-45e0-860f-808ae8d2b259"
      },
      "execution_count": 3,
      "outputs": [
        {
          "output_type": "stream",
          "name": "stderr",
          "text": [
            "100%|██████████| 562M/562M [00:03<00:00, 175MB/s]\n"
          ]
        }
      ]
    },
    {
      "cell_type": "code",
      "source": [
        "train_dl = DataLoader(train_ds, batch_size=64, shuffle=True)\n",
        "test_dl = DataLoader(test_ds, batch_size=500, shuffle=False)"
      ],
      "metadata": {
        "id": "KB-RsI-NRZ8K"
      },
      "execution_count": 4,
      "outputs": []
    },
    {
      "cell_type": "code",
      "source": [
        "import matplotlib.pyplot as plt\n",
        "fig = plt.figure(figsize=(20, 20))\n",
        "for i in range(12):\n",
        "    ax = fig.add_subplot(1, 12, i+1, xticks=[], yticks=[])\n",
        "    # EMNIST images are 28x28, no need to squeeze or transpose\n",
        "    ax.imshow(train_ds[i][0].squeeze(), cmap='gray')\n",
        "    ax.set_title(f'{train_ds.classes[train_ds[i][1]]}')\n",
        "plt.show()"
      ],
      "metadata": {
        "colab": {
          "base_uri": "https://localhost:8080/",
          "height": 118
        },
        "id": "G_aGrtmNQJBO",
        "outputId": "1a79726e-1743-4d24-df3e-5b37bc3f793f"
      },
      "execution_count": 5,
      "outputs": [
        {
          "output_type": "display_data",
          "data": {
            "text/plain": [
              "<Figure size 2000x2000 with 12 Axes>"
            ],
            "image/png": "[encoded data removed]"
          },
          "metadata": {}
        }
      ]
    },
    {
      "cell_type": "code",
      "source": [
        "import torch\n",
        "import torch.nn as nn\n",
        "import torch.nn.functional as F\n",
        "from torch.utils.data import DataLoader\n",
        "from torchvision import datasets, transforms\n",
        "import matplotlib.pyplot as plt\n",
        "from tqdm import tqdm\n",
        "\n",
        "# Assume train_ds and train_dl are already defined from previous cells\n",
        "\n",
        "class EMISTClassifier(nn.Module):\n",
        "    def __init__(self):\n",
        "        super(EMISTClassifier, self).__init__()\n",
        "        # Define the first convolutional layer\n",
        "        self.conv1 = nn.Conv2d(1, 32, kernel_size=3, padding=1)\n",
        "        self.pool1 = nn.MaxPool2d(kernel_size=2, stride=2)\n",
        "        # Define the second convolutional layer with input channels matching the output of the first\n",
        "        self.conv2 = nn.Conv2d(32, 64, kernel_size=3, padding=1)\n",
        "        # Assuming the input size after two conv/pool layers is 7x7 based on the linear layer size\n",
        "        self.fc1 = nn.Linear(64 * 7 * 7, 128)\n",
        "        self.fc2 = nn.Linear(128, len(train_ds.classes))\n",
        "\n",
        "    def forward(self, x):\n",
        "        # Apply the first convolutional layer, activation, and pooling\n",
        "        x = self.pool1(F.relu(self.conv1(x)))\n",
        "        # Apply the second convolutional layer, activation, and pooling\n",
        "        x = self.pool1(F.relu(self.conv2(x)))\n",
        "        # Flatten the tensor for the linear layers\n",
        "        x = x.view(-1, 64 * 7 * 7)\n",
        "        # Apply the first linear layer and activation\n",
        "        x = F.relu(self.fc1(x))\n",
        "        # Apply the second linear layer\n",
        "        x = self.fc2(x)\n",
        "        return x # Added return statement\n",
        "\n",
        "# Rest of the code for training loop remains the same\n",
        "model = EMISTClassifier()\n",
        "criterion = nn.CrossEntropyLoss()\n",
        "optimizer = torch.optim.Adam(model.parameters(), lr=0.001)\n",
        "\n",
        "for epoch in range(7):\n",
        "    model.train()\n",
        "    running_loss = 0.0\n",
        "    pbar = tqdm(enumerate(train_dl), total=len(train_dl))\n",
        "    for i, data in pbar:\n",
        "        inputs, labels = data\n",
        "        optimizer.zero_grad()\n",
        "        outputs = model(inputs)\n",
        "        loss = criterion(outputs, labels)\n",
        "        loss.backward()\n",
        "        optimizer.step()\n",
        "        running_loss += loss.item()\n",
        "        pbar.set_description(f\"Epoch {epoch+1} - Loss: {running_loss/(i+1):.4f}\")"
      ],
      "metadata": {
        "colab": {
          "base_uri": "https://localhost:8080/"
        },
        "id": "OCyAgq-6Rpln",
        "outputId": "01bfae91-be8a-4f8e-b437-42cbfa94d976"
      },
      "execution_count": null,
      "outputs": [
        {
          "output_type": "stream",
          "name": "stderr",
          "text": [
            "Epoch 1 - Loss: 2.3378:  31%|███       | 539/1763 [00:50<02:41,  7.56it/s]"
          ]
        }
      ]
    },
    {
      "cell_type": "code",
      "source": [
        "# Evaluation\n",
        "correct = 0\n",
        "total = 0\n",
        "with torch.no_grad():\n",
        "    for images, labels in test_dl:\n",
        "        outputs = model(images)\n",
        "        _, predicted = torch.max(outputs, 1)\n",
        "        total += labels.size(0)\n",
        "        correct += (predicted == labels).sum().item()\n",
        "\n",
        "print(f\"Test Accuracy: {100 * correct / total:.2f}%\")"
      ],
      "metadata": {
        "colab": {
          "base_uri": "https://localhost:8080/"
        },
        "id": "F7KQo2DgSEAr",
        "outputId": "7a3a8d60-ac8e-452b-b93a-8bee3bf95f13"
      },
      "execution_count": null,
      "outputs": [
        {
          "output_type": "stream",
          "name": "stdout",
          "text": [
            "Test Accuracy: 77.09%\n"
          ]
        }
      ]
    },
    {
      "cell_type": "code",
      "source": [
        "# better code and add another model to improve performance"
      ],
      "metadata": {
        "id": "NB915wQ2SpJT"
      },
      "execution_count": null,
      "outputs": []
    }
  ]
}